{
 "cells": [
  {
   "cell_type": "code",
   "execution_count": 52,
   "metadata": {},
   "outputs": [],
   "source": [
    "import pandas as pd\n",
    "import seaborn as sns\n",
    "import numpy as np\n",
    "import matplotlib.pyplot as plt\n",
    "from sklearn.tree import DecisionTreeClassifier\n",
    "from sklearn.ensemble import RandomForestClassifier\n",
    "from sklearn.tree import export_graphviz\n",
    "from sklearn.metrics import recall_score\n",
    "from sklearn.metrics import precision_score\n",
    "from sklearn.externals.six import StringIO \n",
    "from sklearn.metrics import f1_score\n",
    "from sklearn.model_selection import cross_val_score\n",
    "from sklearn.model_selection import cross_validate\n",
    "from sklearn import metrics\n",
    "from sklearn.metrics import make_scorer\n",
    "import sklearn\n",
    "from sklearn import decomposition\n",
    "\n",
    "# XGBoost\n",
    "import xgboost as xgb\n",
    "\n",
    "# Pandas\n",
    "import pandas as pd\n",
    "\n",
    "# Numpy\n",
    "import numpy as np\n",
    "# Set random seed\n",
    "np.random.seed(0)\n",
    "\n",
    "# Plots\n",
    "%matplotlib inline\n",
    "import matplotlib as mpl\n",
    "import matplotlib.pyplot as plt\n",
    "from IPython.display import Image\n",
    "import pydotplus"
   ]
  },
  {
   "cell_type": "code",
   "execution_count": 53,
   "metadata": {},
   "outputs": [
    {
     "data": {
      "text/plain": [
       "4782"
      ]
     },
     "execution_count": 53,
     "metadata": {},
     "output_type": "execute_result"
    }
   ],
   "source": [
    "df = pd.read_csv('KeplerData.csv')\n",
    "# remove canidates (2244 rows)\n",
    "df = df[df['Exoplanet Archive Disposition'] != 'CANDIDATE']\n",
    "target = 'Exoplanet Archive Disposition'\n",
    "# can't include these columns because they are all null\n",
    "invalids = ['Equilibrium Temperature Upper Uncertainty [K]', 'Equilibrium Temperature Lower Uncertainty [K]']\n",
    "# these are all the features\n",
    "features = list(set(df.columns[4:]) - set(invalids))\n",
    "data = df[features + [target]]\n",
    "# dropping any rows with na drops another 2538 rows\n",
    "withoutna = data.dropna()\n",
    "len(withoutna)"
   ]
  },
  {
   "cell_type": "code",
   "execution_count": 54,
   "metadata": {},
   "outputs": [],
   "source": [
    "train, test = sklearn.model_selection.train_test_split(withoutna)\n",
    "y_train = train[target]\n",
    "X_train = train[features]\n",
    "y_test = test[target]\n",
    "X_test = test[features]"
   ]
  },
  {
   "cell_type": "code",
   "execution_count": 55,
   "metadata": {},
   "outputs": [],
   "source": [
    "clf = RandomForestClassifier()\n",
    "clf.fit(X_train, y_train)\n",
    "y_pred = clf.predict(X_test)"
   ]
  },
  {
   "cell_type": "code",
   "execution_count": 56,
   "metadata": {},
   "outputs": [
    {
     "data": {
      "text/plain": [
       "<matplotlib.axes._subplots.AxesSubplot at 0x11b86b908>"
      ]
     },
     "execution_count": 56,
     "metadata": {},
     "output_type": "execute_result"
    },
    {
     "data": {
      "image/png": "[encoded data removed]",
      "text/plain": [
       "<Figure size 432x288 with 2 Axes>"
      ]
     },
     "metadata": {},
     "output_type": "display_data"
    }
   ],
   "source": [
    "confusion = pd.crosstab(y_test, y_pred, rownames=['Actual'], colnames=['Predicted'], normalize=True)\n",
    "sns.heatmap(confusion, annot=True)"
   ]
  },
  {
   "cell_type": "code",
   "execution_count": 57,
   "metadata": {},
   "outputs": [
    {
     "name": "stdout",
     "output_type": "stream",
     "text": [
      "Accuracy:\t\t 0.9841073919107393\n",
      "Completeness:\t\t 0.9899665551839465\n",
      "Contamination:\t\t 0.010033444816053505\n"
     ]
    }
   ],
   "source": [
    "cv_scores_rf = cross_val_score(clf, X_test, y_test, cv=5)\n",
    "\n",
    "print(\"Accuracy:\\t\\t\", np.mean(cv_scores_rf))\n",
    "print(\"Completeness:\\t\\t\", sklearn.metrics.recall_score(y_test, y_pred, average='micro'))\n",
    "print(\"Contamination:\\t\\t\", 1 - sklearn.metrics.precision_score(y_test, y_pred, average='micro'))"
   ]
  },
  {
   "cell_type": "code",
   "execution_count": 58,
   "metadata": {},
   "outputs": [
    {
     "data": {
      "text/plain": [
       "['Disposition Score',\n",
       " 'Stellar Eclipse False Positive Flag',\n",
       " 'Centroid Offset False Positive Flag',\n",
       " 'Ephermeris Match Indicates Contamination False Positive Flag',\n",
       " 'Maximum Multiple Event Statistic',\n",
       " 'Number of Planets',\n",
       " 'Planetary Radius [Earth radii]',\n",
       " 'Not Transit-Like False Positive Flag',\n",
       " 'Transit Signal-to-Noise',\n",
       " 'Orbital Period [days]',\n",
       " 'Impact Parameter']"
      ]
     },
     "execution_count": 58,
     "metadata": {},
     "output_type": "execute_result"
    },
    {
     "data": {
      "image/png": "[encoded data removed]",
      "text/plain": [
       "<Figure size 432x288 with 1 Axes>"
      ]
     },
     "metadata": {},
     "output_type": "display_data"
    }
   ],
   "source": [
    "values = list(zip(features, clf.feature_importances_))\n",
    "plt.barh(range(len(clf.feature_importances_)), [x[1] for x in values])\n",
    "sortd = sorted(values, reverse = True, key= lambda x: x[1])[:20]\n",
    "most_important = [s[0] for s in sortd]\n",
    "# we dont want any features which have 'Uncertainty'\n",
    "most_important = [x for x in most_important if 'Uncertainty' not in x]\n",
    "most_important"
   ]
  },
  {
   "cell_type": "code",
   "execution_count": 59,
   "metadata": {},
   "outputs": [
    {
     "data": {
      "text/html": [
       "<div>\n",
       "<style scoped>\n",
       "    .dataframe tbody tr th:only-of-type {\n",
       "        vertical-align: middle;\n",
       "    }\n",
       "\n",
       "    .dataframe tbody tr th {\n",
       "        vertical-align: top;\n",
       "    }\n",
       "\n",
       "    .dataframe thead tr th {\n",
       "        text-align: left;\n",
       "    }\n",
       "\n",
       "    .dataframe thead tr:last-of-type th {\n",
       "        text-align: right;\n",
       "    }\n",
       "</style>\n",
       "<table border=\"1\" class=\"dataframe\">\n",
       "  <thead>\n",
       "    <tr>\n",
       "      <th></th>\n",
       "      <th colspan=\"8\" halign=\"left\">Disposition Score</th>\n",
       "    </tr>\n",
       "    <tr>\n",
       "      <th></th>\n",
       "      <th>count</th>\n",
       "      <th>mean</th>\n",
       "      <th>std</th>\n",
       "      <th>min</th>\n",
       "      <th>25%</th>\n",
       "      <th>50%</th>\n",
       "      <th>75%</th>\n",
       "      <th>max</th>\n",
       "    </tr>\n",
       "    <tr>\n",
       "      <th>Exoplanet Archive Disposition</th>\n",
       "      <th></th>\n",
       "      <th></th>\n",
       "      <th></th>\n",
       "      <th></th>\n",
       "      <th></th>\n",
       "      <th></th>\n",
       "      <th></th>\n",
       "      <th></th>\n",
       "    </tr>\n",
       "  </thead>\n",
       "  <tbody>\n",
       "    <tr>\n",
       "      <th>CONFIRMED</th>\n",
       "      <td>2285.0</td>\n",
       "      <td>0.962631</td>\n",
       "      <td>0.144378</td>\n",
       "      <td>0.0</td>\n",
       "      <td>0.993</td>\n",
       "      <td>1.0</td>\n",
       "      <td>1.0</td>\n",
       "      <td>1.000</td>\n",
       "    </tr>\n",
       "    <tr>\n",
       "      <th>FALSE POSITIVE</th>\n",
       "      <td>3976.0</td>\n",
       "      <td>0.014899</td>\n",
       "      <td>0.062409</td>\n",
       "      <td>0.0</td>\n",
       "      <td>0.000</td>\n",
       "      <td>0.0</td>\n",
       "      <td>0.0</td>\n",
       "      <td>0.957</td>\n",
       "    </tr>\n",
       "  </tbody>\n",
       "</table>\n",
       "</div>"
      ],
      "text/plain": [
       "                              Disposition Score                           \\\n",
       "                                          count      mean       std  min   \n",
       "Exoplanet Archive Disposition                                              \n",
       "CONFIRMED                                2285.0  0.962631  0.144378  0.0   \n",
       "FALSE POSITIVE                           3976.0  0.014899  0.062409  0.0   \n",
       "\n",
       "                                                       \n",
       "                                 25%  50%  75%    max  \n",
       "Exoplanet Archive Disposition                          \n",
       "CONFIRMED                      0.993  1.0  1.0  1.000  \n",
       "FALSE POSITIVE                 0.000  0.0  0.0  0.957  "
      ]
     },
     "execution_count": 59,
     "metadata": {},
     "output_type": "execute_result"
    },
    {
     "data": {
      "image/png": "[encoded data removed]",
      "text/plain": [
       "<Figure size 432x288 with 1 Axes>"
      ]
     },
     "metadata": {},
     "output_type": "display_data"
    }
   ],
   "source": [
    "# here we look at the most important feature\n",
    "fig, axs = plt.subplots(ncols=1)\n",
    "data = df[['Disposition Score', target]]\n",
    "data.groupby(target).plot(kind='kde', ax=axs)\n",
    "data.groupby(target).describe()"
   ]
  },
  {
   "cell_type": "code",
   "execution_count": 60,
   "metadata": {},
   "outputs": [
    {
     "name": "stdout",
     "output_type": "stream",
     "text": [
      "Accuracy:\t\t 0.9916317112619106\n",
      "Completeness:\t\t 0.9933110367892977\n",
      "Contamination:\t\t 0.006688963210702337\n"
     ]
    },
    {
     "data": {
      "image/png": "[encoded data removed]",
      "text/plain": [
       "<Figure size 432x288 with 2 Axes>"
      ]
     },
     "metadata": {},
     "output_type": "display_data"
    }
   ],
   "source": [
    "# Rerun using only the top 10 most important features\n",
    "important = withoutna[most_important + [target]]\n",
    "train, test = sklearn.model_selection.train_test_split(important)\n",
    "y_train = train[target]\n",
    "X_train = train[most_important]\n",
    "y_test = test[target]\n",
    "X_test = test[most_important]\n",
    "clf = RandomForestClassifier()\n",
    "clf.fit(X_train, y_train)\n",
    "y_pred = clf.predict(X_test)\n",
    "confusion = pd.crosstab(y_test, y_pred, rownames=['Actual'], colnames=['Predicted'], normalize=True)\n",
    "sns.heatmap(confusion, annot=True)\n",
    "cv_scores_rf = cross_val_score(clf, X_test, y_test, cv=5)\n",
    "\n",
    "print(\"Accuracy:\\t\\t\", np.mean(cv_scores_rf))\n",
    "print(\"Completeness:\\t\\t\", sklearn.metrics.recall_score(y_test, y_pred, average='micro'))\n",
    "print(\"Contamination:\\t\\t\", 1 - sklearn.metrics.precision_score(y_test, y_pred, average='micro'))"
   ]
  },
  {
   "cell_type": "code",
   "execution_count": 62,
   "metadata": {},
   "outputs": [
    {
     "ename": "KeyError",
     "evalue": "'Exoplanet Archive Disposition'",
     "output_type": "error",
     "traceback": [
      "\u001b[0;31m---------------------------------------------------------------------------\u001b[0m",
      "\u001b[0;31mKeyError\u001b[0m                                  Traceback (most recent call last)",
      "\u001b[0;32m<ipython-input-62-c48350dfad78>\u001b[0m in \u001b[0;36m<module>\u001b[0;34m()\u001b[0m\n\u001b[1;32m     11\u001b[0m \u001b[0;32mfor\u001b[0m \u001b[0mspecie\u001b[0m \u001b[0;32min\u001b[0m \u001b[0mnp\u001b[0m\u001b[0;34m.\u001b[0m\u001b[0munique\u001b[0m\u001b[0;34m(\u001b[0m\u001b[0mspecies\u001b[0m\u001b[0;34m)\u001b[0m\u001b[0;34m:\u001b[0m\u001b[0;34m\u001b[0m\u001b[0m\n\u001b[1;32m     12\u001b[0m     \u001b[0mmask\u001b[0m \u001b[0;34m=\u001b[0m \u001b[0;34m(\u001b[0m\u001b[0mspecies\u001b[0m \u001b[0;34m==\u001b[0m \u001b[0mspecie\u001b[0m\u001b[0;34m)\u001b[0m\u001b[0;34m\u001b[0m\u001b[0m\n\u001b[0;32m---> 13\u001b[0;31m     \u001b[0max\u001b[0m\u001b[0;34m.\u001b[0m\u001b[0mscatter\u001b[0m\u001b[0;34m(\u001b[0m\u001b[0miris_pca\u001b[0m\u001b[0;34m[\u001b[0m\u001b[0mmask\u001b[0m\u001b[0;34m]\u001b[0m\u001b[0;34m[\u001b[0m\u001b[0;34m:\u001b[0m\u001b[0;34m,\u001b[0m \u001b[0;36m0\u001b[0m\u001b[0;34m]\u001b[0m\u001b[0;34m,\u001b[0m \u001b[0miris_pca\u001b[0m\u001b[0;34m[\u001b[0m\u001b[0mmask\u001b[0m\u001b[0;34m]\u001b[0m\u001b[0;34m[\u001b[0m\u001b[0;34m:\u001b[0m\u001b[0;34m,\u001b[0m \u001b[0;36m1\u001b[0m\u001b[0;34m]\u001b[0m\u001b[0;34m,\u001b[0m \u001b[0mlabel\u001b[0m \u001b[0;34m=\u001b[0m \u001b[0mspecie\u001b[0m\u001b[0;34m,\u001b[0m \u001b[0mc\u001b[0m \u001b[0;34m=\u001b[0m \u001b[0miris_colors\u001b[0m\u001b[0;34m[\u001b[0m\u001b[0mspecie\u001b[0m\u001b[0;34m]\u001b[0m\u001b[0;34m,\u001b[0m \u001b[0malpha\u001b[0m \u001b[0;34m=\u001b[0m \u001b[0;36m0.5\u001b[0m\u001b[0;34m)\u001b[0m\u001b[0;34m\u001b[0m\u001b[0m\n\u001b[0m\u001b[1;32m     14\u001b[0m \u001b[0;34m\u001b[0m\u001b[0m\n\u001b[1;32m     15\u001b[0m \u001b[0;31m# loading vectors\u001b[0m\u001b[0;34m\u001b[0m\u001b[0;34m\u001b[0m\u001b[0m\n",
      "\u001b[0;31mKeyError\u001b[0m: 'Exoplanet Archive Disposition'"
     ]
    },
    {
     "data": {
      "image/png": "[encoded data removed]",
      "text/plain": [
       "<Figure size 720x360 with 1 Axes>"
      ]
     },
     "metadata": {},
     "output_type": "display_data"
    }
   ],
   "source": [
    "# iris = np.array(withoutna[most_important])\n",
    "# species = target\n",
    "# iris_colors = {'FALSE POSITIVE': 'g', 'CONFIRMED': 'r'}\n",
    "\n",
    "# pca = decomposition.PCA(n_components=2)\n",
    "# pca.fit(iris)\n",
    "# iris_pca = pca.transform(iris)\n",
    "\n",
    "# # projected coordinates\n",
    "# fig, ax = plt.subplots(figsize = (10, 5))\n",
    "# for specie in np.unique(species):\n",
    "#     mask = (species == specie)\n",
    "#     ax.scatter(iris_pca[mask][:, 0], iris_pca[mask][:, 1], label = specie, c = iris_colors[specie], alpha = 0.5)\n",
    "\n",
    "# # loading vectors\n",
    "# eviris = 2. * pca.components_\n",
    "# for idx, var in enumerate(most_important[:-1]):\n",
    "#     ax.plot([0, eviris[0, idx]], [0, eviris[1, idx]])\n",
    "#     #ax.text(eviris[0, idx], eviris[1, idx], var)\n",
    "# ax.set_xlabel(\"PCA 1\")\n",
    "# ax.set_ylabel(\"PCA 2\")\n",
    "# ax.legend();"
   ]
  },
  {
   "cell_type": "code",
   "execution_count": null,
   "metadata": {},
   "outputs": [],
   "source": []
  }
 ],
 "metadata": {
  "kernelspec": {
   "display_name": "Python 3",
   "language": "python",
   "name": "python3"
  },
  "language_info": {
   "codemirror_mode": {
    "name": "ipython",
    "version": 3
   },
   "file_extension": ".py",
   "mimetype": "text/x-python",
   "name": "python",
   "nbconvert_exporter": "python",
   "pygments_lexer": "ipython3",
   "version": "3.7.0"
  }
 },
 "nbformat": 4,
 "nbformat_minor": 2
}

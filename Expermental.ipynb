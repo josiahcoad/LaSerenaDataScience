{
 "cells": [
  {
   "cell_type": "code",
   "execution_count": 89,
   "metadata": {},
   "outputs": [],
   "source": [
    "import pandas as pd\n",
    "import seaborn as sns\n",
    "import numpy as np\n",
    "import matplotlib.pyplot as plt\n",
    "from sklearn.tree import DecisionTreeClassifier\n",
    "from sklearn.ensemble import RandomForestClassifier\n",
    "from sklearn.tree import export_graphviz\n",
    "from sklearn.metrics import recall_score\n",
    "from sklearn.metrics import precision_score\n",
    "from sklearn.externals.six import StringIO \n",
    "from sklearn.metrics import f1_score\n",
    "from sklearn.model_selection import cross_val_score\n",
    "from sklearn.model_selection import cross_validate\n",
    "from sklearn import metrics\n",
    "from sklearn.metrics import make_scorer\n",
    "import sklearn\n",
    "from sklearn import decomposition\n",
    "from sklearn.model_selection import train_test_split\n",
    "import pandas as pd\n",
    "import numpy as np\n",
    "import sklearn\n",
    "import matplotlib.pyplot as plt\n",
    "from matplotlib.colors import ListedColormap\n",
    "from sklearn.model_selection import train_test_split\n",
    "from sklearn.preprocessing import StandardScaler\n",
    "from sklearn.datasets import make_moons, make_circles, make_classification\n",
    "from sklearn.neural_network import MLPClassifier\n",
    "from sklearn.neighbors import KNeighborsClassifier\n",
    "from sklearn.svm import SVC\n",
    "from sklearn.gaussian_process import GaussianProcessClassifier\n",
    "from sklearn.gaussian_process.kernels import RBF\n",
    "from sklearn.tree import DecisionTreeClassifier\n",
    "from sklearn.ensemble import RandomForestClassifier, AdaBoostClassifier\n",
    "from sklearn.naive_bayes import GaussianNB\n",
    "from sklearn.discriminant_analysis import QuadraticDiscriminantAnalysis\n",
    "from sklearn import decomposition\n",
    "from sklearn.model_selection import cross_val_score\n",
    "\n",
    "# XGBoost\n",
    "import xgboost as xgb\n",
    "\n",
    "# Pandas\n",
    "import pandas as pd\n",
    "\n",
    "# Numpy\n",
    "import numpy as np\n",
    "# Set random seed\n",
    "np.random.seed(0)\n",
    "\n",
    "# Plots\n",
    "%matplotlib inline\n",
    "import matplotlib as mpl\n",
    "import matplotlib.pyplot as plt\n",
    "from IPython.display import Image\n",
    "import pydotplus"
   ]
  },
  {
   "cell_type": "code",
   "execution_count": 90,
   "metadata": {},
   "outputs": [
    {
     "data": {
      "text/html": [
       "<div>\n",
       "<style scoped>\n",
       "    .dataframe tbody tr th:only-of-type {\n",
       "        vertical-align: middle;\n",
       "    }\n",
       "\n",
       "    .dataframe tbody tr th {\n",
       "        vertical-align: top;\n",
       "    }\n",
       "\n",
       "    .dataframe thead th {\n",
       "        text-align: right;\n",
       "    }\n",
       "</style>\n",
       "<table border=\"1\" class=\"dataframe\">\n",
       "  <thead>\n",
       "    <tr style=\"text-align: right;\">\n",
       "      <th></th>\n",
       "      <th>rowid</th>\n",
       "      <th>kepid</th>\n",
       "      <th>koi_disposition</th>\n",
       "      <th>koi_pdisposition</th>\n",
       "      <th>koi_score</th>\n",
       "      <th>koi_fpflag_nt</th>\n",
       "      <th>koi_fpflag_ss</th>\n",
       "      <th>koi_fpflag_co</th>\n",
       "      <th>koi_fpflag_ec</th>\n",
       "      <th>koi_period</th>\n",
       "      <th>...</th>\n",
       "      <th>koi_dicco_mdec</th>\n",
       "      <th>koi_dicco_mdec_err</th>\n",
       "      <th>koi_dicco_msky</th>\n",
       "      <th>koi_dicco_msky_err</th>\n",
       "      <th>koi_dikco_mra</th>\n",
       "      <th>koi_dikco_mra_err</th>\n",
       "      <th>koi_dikco_mdec</th>\n",
       "      <th>koi_dikco_mdec_err</th>\n",
       "      <th>koi_dikco_msky</th>\n",
       "      <th>koi_dikco_msky_err</th>\n",
       "    </tr>\n",
       "  </thead>\n",
       "  <tbody>\n",
       "    <tr>\n",
       "      <th>0</th>\n",
       "      <td>1</td>\n",
       "      <td>10797460</td>\n",
       "      <td>CONFIRMED</td>\n",
       "      <td>CANDIDATE</td>\n",
       "      <td>1.000</td>\n",
       "      <td>0</td>\n",
       "      <td>0</td>\n",
       "      <td>0</td>\n",
       "      <td>0</td>\n",
       "      <td>9.488036</td>\n",
       "      <td>...</td>\n",
       "      <td>0.200</td>\n",
       "      <td>0.160</td>\n",
       "      <td>0.200</td>\n",
       "      <td>0.170</td>\n",
       "      <td>0.080</td>\n",
       "      <td>0.130</td>\n",
       "      <td>0.310</td>\n",
       "      <td>0.170</td>\n",
       "      <td>0.320</td>\n",
       "      <td>0.160</td>\n",
       "    </tr>\n",
       "    <tr>\n",
       "      <th>1</th>\n",
       "      <td>2</td>\n",
       "      <td>10797460</td>\n",
       "      <td>CONFIRMED</td>\n",
       "      <td>CANDIDATE</td>\n",
       "      <td>0.969</td>\n",
       "      <td>0</td>\n",
       "      <td>0</td>\n",
       "      <td>0</td>\n",
       "      <td>0</td>\n",
       "      <td>54.418383</td>\n",
       "      <td>...</td>\n",
       "      <td>0.000</td>\n",
       "      <td>0.480</td>\n",
       "      <td>0.390</td>\n",
       "      <td>0.360</td>\n",
       "      <td>0.490</td>\n",
       "      <td>0.340</td>\n",
       "      <td>0.120</td>\n",
       "      <td>0.730</td>\n",
       "      <td>0.500</td>\n",
       "      <td>0.450</td>\n",
       "    </tr>\n",
       "    <tr>\n",
       "      <th>2</th>\n",
       "      <td>3</td>\n",
       "      <td>10811496</td>\n",
       "      <td>FALSE POSITIVE</td>\n",
       "      <td>FALSE POSITIVE</td>\n",
       "      <td>0.000</td>\n",
       "      <td>0</td>\n",
       "      <td>1</td>\n",
       "      <td>0</td>\n",
       "      <td>0</td>\n",
       "      <td>19.899140</td>\n",
       "      <td>...</td>\n",
       "      <td>-0.034</td>\n",
       "      <td>0.070</td>\n",
       "      <td>0.042</td>\n",
       "      <td>0.072</td>\n",
       "      <td>0.002</td>\n",
       "      <td>0.071</td>\n",
       "      <td>-0.027</td>\n",
       "      <td>0.074</td>\n",
       "      <td>0.027</td>\n",
       "      <td>0.074</td>\n",
       "    </tr>\n",
       "    <tr>\n",
       "      <th>3</th>\n",
       "      <td>4</td>\n",
       "      <td>10848459</td>\n",
       "      <td>FALSE POSITIVE</td>\n",
       "      <td>FALSE POSITIVE</td>\n",
       "      <td>0.000</td>\n",
       "      <td>0</td>\n",
       "      <td>1</td>\n",
       "      <td>0</td>\n",
       "      <td>0</td>\n",
       "      <td>1.736952</td>\n",
       "      <td>...</td>\n",
       "      <td>0.147</td>\n",
       "      <td>0.078</td>\n",
       "      <td>0.289</td>\n",
       "      <td>0.079</td>\n",
       "      <td>-0.257</td>\n",
       "      <td>0.072</td>\n",
       "      <td>0.099</td>\n",
       "      <td>0.077</td>\n",
       "      <td>0.276</td>\n",
       "      <td>0.076</td>\n",
       "    </tr>\n",
       "    <tr>\n",
       "      <th>4</th>\n",
       "      <td>5</td>\n",
       "      <td>10854555</td>\n",
       "      <td>CONFIRMED</td>\n",
       "      <td>CANDIDATE</td>\n",
       "      <td>1.000</td>\n",
       "      <td>0</td>\n",
       "      <td>0</td>\n",
       "      <td>0</td>\n",
       "      <td>0</td>\n",
       "      <td>2.525592</td>\n",
       "      <td>...</td>\n",
       "      <td>-0.090</td>\n",
       "      <td>0.180</td>\n",
       "      <td>0.100</td>\n",
       "      <td>0.140</td>\n",
       "      <td>0.070</td>\n",
       "      <td>0.180</td>\n",
       "      <td>0.020</td>\n",
       "      <td>0.160</td>\n",
       "      <td>0.070</td>\n",
       "      <td>0.200</td>\n",
       "    </tr>\n",
       "  </tbody>\n",
       "</table>\n",
       "<p>5 rows × 102 columns</p>\n",
       "</div>"
      ],
      "text/plain": [
       "   rowid     kepid koi_disposition koi_pdisposition  koi_score  koi_fpflag_nt  \\\n",
       "0      1  10797460       CONFIRMED        CANDIDATE      1.000              0   \n",
       "1      2  10797460       CONFIRMED        CANDIDATE      0.969              0   \n",
       "2      3  10811496  FALSE POSITIVE   FALSE POSITIVE      0.000              0   \n",
       "3      4  10848459  FALSE POSITIVE   FALSE POSITIVE      0.000              0   \n",
       "4      5  10854555       CONFIRMED        CANDIDATE      1.000              0   \n",
       "\n",
       "   koi_fpflag_ss  koi_fpflag_co  koi_fpflag_ec  koi_period  \\\n",
       "0              0              0              0    9.488036   \n",
       "1              0              0              0   54.418383   \n",
       "2              1              0              0   19.899140   \n",
       "3              1              0              0    1.736952   \n",
       "4              0              0              0    2.525592   \n",
       "\n",
       "          ...          koi_dicco_mdec  koi_dicco_mdec_err  koi_dicco_msky  \\\n",
       "0         ...                   0.200               0.160           0.200   \n",
       "1         ...                   0.000               0.480           0.390   \n",
       "2         ...                  -0.034               0.070           0.042   \n",
       "3         ...                   0.147               0.078           0.289   \n",
       "4         ...                  -0.090               0.180           0.100   \n",
       "\n",
       "   koi_dicco_msky_err  koi_dikco_mra  koi_dikco_mra_err  koi_dikco_mdec  \\\n",
       "0               0.170          0.080              0.130           0.310   \n",
       "1               0.360          0.490              0.340           0.120   \n",
       "2               0.072          0.002              0.071          -0.027   \n",
       "3               0.079         -0.257              0.072           0.099   \n",
       "4               0.140          0.070              0.180           0.020   \n",
       "\n",
       "   koi_dikco_mdec_err  koi_dikco_msky  koi_dikco_msky_err  \n",
       "0               0.170           0.320               0.160  \n",
       "1               0.730           0.500               0.450  \n",
       "2               0.074           0.027               0.074  \n",
       "3               0.077           0.276               0.076  \n",
       "4               0.160           0.070               0.200  \n",
       "\n",
       "[5 rows x 102 columns]"
      ]
     },
     "execution_count": 90,
     "metadata": {},
     "output_type": "execute_result"
    }
   ],
   "source": [
    "df = pd.read_csv('KeplerData.csv')\n",
    "df.head()"
   ]
  },
  {
   "cell_type": "code",
   "execution_count": 91,
   "metadata": {},
   "outputs": [
    {
     "data": {
      "text/plain": [
       "4997"
      ]
     },
     "execution_count": 91,
     "metadata": {},
     "output_type": "execute_result"
    }
   ],
   "source": [
    "# remove canidates (2244 rows)\n",
    "target = 'koi_disposition'\n",
    "df = df[df[target] != 'CANDIDATE']\n",
    "# can't include these columns because they are all null\n",
    "#invalids = ['Equilibrium Temperature Upper Uncertainty [K]', 'Equilibrium Temperature Lower Uncertainty [K]']\n",
    "# these are all the features\n",
    "features = list(set(df.columns[4:]) - set(invalids))\n",
    "data = df[features + [target]]\n",
    "# dropping any rows with na drops another 2538 rows\n",
    "withoutna = data.dropna()\n",
    "len(withoutna)"
   ]
  },
  {
   "cell_type": "code",
   "execution_count": 103,
   "metadata": {},
   "outputs": [],
   "source": [
    "train, test = sklearn.model_selection.train_test_split(withoutna)\n",
    "y_train = train[target]\n",
    "X_train = train[features]\n",
    "y_test = test[target]\n",
    "X_test = test[features]\n",
    "# X_train, X_test, y_train, y_test = \\\n",
    "#     train_test_split(features, target, test_size=.4, random_state=42)"
   ]
  },
  {
   "cell_type": "code",
   "execution_count": 104,
   "metadata": {},
   "outputs": [],
   "source": [
    "clf = RandomForestClassifier()\n",
    "clf.fit(X_train, y_train)\n",
    "y_pred = clf.predict(X_test)"
   ]
  },
  {
   "cell_type": "code",
   "execution_count": 105,
   "metadata": {},
   "outputs": [
    {
     "data": {
      "text/plain": [
       "<matplotlib.axes._subplots.AxesSubplot at 0x11c37f780>"
      ]
     },
     "execution_count": 105,
     "metadata": {},
     "output_type": "execute_result"
    },
    {
     "data": {
      "image/png": "[encoded data removed]",
      "text/plain": [
       "<Figure size 432x288 with 2 Axes>"
      ]
     },
     "metadata": {},
     "output_type": "display_data"
    }
   ],
   "source": [
    "confusion = pd.crosstab(y_test, y_pred, rownames=['Actual'], colnames=['Predicted'], normalize=True)\n",
    "sns.heatmap(confusion, annot=True)"
   ]
  },
  {
   "cell_type": "code",
   "execution_count": 106,
   "metadata": {},
   "outputs": [
    {
     "name": "stdout",
     "output_type": "stream",
     "text": [
      "Accuracy:\t\t 0.984\n",
      "Completeness:\t\t 0.9928\n",
      "Contamination:\t\t 0.007199999999999984\n"
     ]
    }
   ],
   "source": [
    "cv_scores_rf = cross_val_score(clf, X_test, y_test, cv=5)\n",
    "\n",
    "print(\"Accuracy:\\t\\t\", np.mean(cv_scores_rf))\n",
    "print(\"Completeness:\\t\\t\", sklearn.metrics.recall_score(y_test, y_pred, average='micro'))\n",
    "print(\"Contamination:\\t\\t\", 1 - sklearn.metrics.precision_score(y_test, y_pred, average='micro'))"
   ]
  },
  {
   "cell_type": "code",
   "execution_count": 107,
   "metadata": {},
   "outputs": [
    {
     "data": {
      "text/plain": [
       "['koi_score',\n",
       " 'koi_dikco_msky',\n",
       " 'koi_ror',\n",
       " 'koi_fpflag_ss',\n",
       " 'koi_count',\n",
       " 'koi_fpflag_co',\n",
       " 'koi_fpflag_nt',\n",
       " 'koi_dor',\n",
       " 'koi_fwm_stat_sig',\n",
       " 'koi_prad',\n",
       " 'koi_srad']"
      ]
     },
     "execution_count": 107,
     "metadata": {},
     "output_type": "execute_result"
    },
    {
     "data": {
      "image/png": "[encoded data removed]",
      "text/plain": [
       "<Figure size 432x288 with 1 Axes>"
      ]
     },
     "metadata": {},
     "output_type": "display_data"
    }
   ],
   "source": [
    "values = list(zip(features, clf.feature_importances_))\n",
    "plt.barh(range(len(clf.feature_importances_)), [x[1] for x in values])\n",
    "sortd = sorted(values, reverse = True, key= lambda x: x[1])[:20]\n",
    "most_important = [s[0] for s in sortd if 'err' not in s[0]]\n",
    "# we dont want any features which have 'Uncertainty'\n",
    "#most_important = [x for x in most_important if 'Uncertainty' not in x]\n",
    "#most_important\n",
    "most_important"
   ]
  },
  {
   "cell_type": "code",
   "execution_count": 108,
   "metadata": {},
   "outputs": [
    {
     "data": {
      "text/html": [
       "<div>\n",
       "<style scoped>\n",
       "    .dataframe tbody tr th:only-of-type {\n",
       "        vertical-align: middle;\n",
       "    }\n",
       "\n",
       "    .dataframe tbody tr th {\n",
       "        vertical-align: top;\n",
       "    }\n",
       "\n",
       "    .dataframe thead tr th {\n",
       "        text-align: left;\n",
       "    }\n",
       "\n",
       "    .dataframe thead tr:last-of-type th {\n",
       "        text-align: right;\n",
       "    }\n",
       "</style>\n",
       "<table border=\"1\" class=\"dataframe\">\n",
       "  <thead>\n",
       "    <tr>\n",
       "      <th></th>\n",
       "      <th colspan=\"8\" halign=\"left\">koi_score</th>\n",
       "    </tr>\n",
       "    <tr>\n",
       "      <th></th>\n",
       "      <th>count</th>\n",
       "      <th>mean</th>\n",
       "      <th>std</th>\n",
       "      <th>min</th>\n",
       "      <th>25%</th>\n",
       "      <th>50%</th>\n",
       "      <th>75%</th>\n",
       "      <th>max</th>\n",
       "    </tr>\n",
       "    <tr>\n",
       "      <th>koi_disposition</th>\n",
       "      <th></th>\n",
       "      <th></th>\n",
       "      <th></th>\n",
       "      <th></th>\n",
       "      <th></th>\n",
       "      <th></th>\n",
       "      <th></th>\n",
       "      <th></th>\n",
       "    </tr>\n",
       "  </thead>\n",
       "  <tbody>\n",
       "    <tr>\n",
       "      <th>CONFIRMED</th>\n",
       "      <td>2285.0</td>\n",
       "      <td>0.962631</td>\n",
       "      <td>0.144378</td>\n",
       "      <td>0.0</td>\n",
       "      <td>0.993</td>\n",
       "      <td>1.0</td>\n",
       "      <td>1.0</td>\n",
       "      <td>1.000</td>\n",
       "    </tr>\n",
       "    <tr>\n",
       "      <th>FALSE POSITIVE</th>\n",
       "      <td>3976.0</td>\n",
       "      <td>0.014899</td>\n",
       "      <td>0.062409</td>\n",
       "      <td>0.0</td>\n",
       "      <td>0.000</td>\n",
       "      <td>0.0</td>\n",
       "      <td>0.0</td>\n",
       "      <td>0.957</td>\n",
       "    </tr>\n",
       "  </tbody>\n",
       "</table>\n",
       "</div>"
      ],
      "text/plain": [
       "                koi_score                                                 \n",
       "                    count      mean       std  min    25%  50%  75%    max\n",
       "koi_disposition                                                           \n",
       "CONFIRMED          2285.0  0.962631  0.144378  0.0  0.993  1.0  1.0  1.000\n",
       "FALSE POSITIVE     3976.0  0.014899  0.062409  0.0  0.000  0.0  0.0  0.957"
      ]
     },
     "execution_count": 108,
     "metadata": {},
     "output_type": "execute_result"
    },
    {
     "data": {
      "image/png": "[encoded data removed]",
      "text/plain": [
       "<Figure size 432x288 with 1 Axes>"
      ]
     },
     "metadata": {},
     "output_type": "display_data"
    }
   ],
   "source": [
    "# here we look at the most important feature\n",
    "fig, axs = plt.subplots(ncols=1)\n",
    "data = df[['koi_score', target]]\n",
    "data.groupby(target).plot(kind='kde', ax=axs)\n",
    "data.groupby(target).describe()"
   ]
  },
  {
   "cell_type": "code",
   "execution_count": 109,
   "metadata": {},
   "outputs": [
    {
     "name": "stdout",
     "output_type": "stream",
     "text": [
      "Accuracy:\t\t 0.9831870717931487\n",
      "Completeness:\t\t 0.9872\n",
      "Contamination:\t\t 0.012800000000000034\n"
     ]
    },
    {
     "data": {
      "image/png": "[encoded data removed]",
      "text/plain": [
       "<Figure size 432x288 with 2 Axes>"
      ]
     },
     "metadata": {},
     "output_type": "display_data"
    }
   ],
   "source": [
    "# Rerun using only the top 10 most important features\n",
    "important = withoutna[most_important + [target]]\n",
    "train, test = sklearn.model_selection.train_test_split(important)\n",
    "y_train = train[target]\n",
    "X_train = train[most_important]\n",
    "y_test = test[target]\n",
    "X_test = test[most_important]\n",
    "clf = RandomForestClassifier()\n",
    "clf.fit(X_train, y_train)\n",
    "y_pred = clf.predict(X_test)\n",
    "confusion = pd.crosstab(y_test, y_pred, rownames=['Actual'], colnames=['Predicted'], normalize=True)\n",
    "sns.heatmap(confusion, annot=True)\n",
    "cv_scores_rf = cross_val_score(clf, X_test, y_test, cv=5)\n",
    "\n",
    "print(\"Accuracy:\\t\\t\", np.mean(cv_scores_rf))\n",
    "print(\"Completeness:\\t\\t\", sklearn.metrics.recall_score(y_test, y_pred, average='micro'))\n",
    "print(\"Contamination:\\t\\t\", 1 - sklearn.metrics.precision_score(y_test, y_pred, average='micro'))"
   ]
  },
  {
   "cell_type": "code",
   "execution_count": 110,
   "metadata": {},
   "outputs": [
    {
     "data": {
      "image/png": "[encoded data removed]",
      "text/plain": [
       "<Figure size 720x360 with 1 Axes>"
      ]
     },
     "metadata": {},
     "output_type": "display_data"
    }
   ],
   "source": [
    "iris = np.array(withoutna[most_important])\n",
    "species = withoutna[target]\n",
    "iris_colors = {'FALSE POSITIVE': 'g', 'CONFIRMED': 'r'}\n",
    "\n",
    "pca = decomposition.PCA(n_components=2)\n",
    "pca.fit(iris)\n",
    "iris_pca = pca.transform(iris)\n",
    "\n",
    "# projected coordinates\n",
    "fig, ax = plt.subplots(figsize = (10, 5))\n",
    "for specie in np.unique(species):\n",
    "    mask = (species == specie)\n",
    "    ax.scatter(iris_pca[mask][:, 0], iris_pca[mask][:, 1], label = specie, c = iris_colors[specie], alpha = 0.1)\n",
    "\n",
    "# loading vectors\n",
    "eviris = 2. * pca.components_\n",
    "for idx, var in enumerate(most_important[:-1]):\n",
    "    ax.plot([0, eviris[0, idx]], [0, eviris[1, idx]])\n",
    "    #ax.text(eviris[0, idx], eviris[1, idx], var)\n",
    "ax.set_xlabel(\"PCA 1\")\n",
    "ax.set_ylabel(\"PCA 2\")\n",
    "ax.legend();"
   ]
  },
  {
   "cell_type": "code",
   "execution_count": 116,
   "metadata": {},
   "outputs": [],
   "source": [
    "names = [\"Nearest Neighbors\", \"Linear SVM\", \"RBF SVM\", \"Gaussian Process\",\n",
    "         \"Decision Tree\", \"Random Forest\", \"Neural Net\", \"AdaBoost\",\n",
    "         \"Naive Bayes\", \"QDA\"]\n",
    "\n",
    "classifiers = [\n",
    "    KNeighborsClassifier(3),\n",
    "    #SVC(kernel=\"linear\", C=0.025),\n",
    "    SVC(gamma=2, C=1),\n",
    "    #GaussianProcessClassifier(1.0 * RBF(1.0)),\n",
    "    DecisionTreeClassifier(max_depth=5),\n",
    "    RandomForestClassifier(max_depth=5, n_estimators=10, max_features=1),\n",
    "    MLPClassifier(alpha=1),\n",
    "    AdaBoostClassifier(),\n",
    "    GaussianNB(),\n",
    "    QuadraticDiscriminantAnalysis()]\n",
    "\n",
    "# preprocess dataset, split into training and test part\n",
    "X, y = withoutna[most_important], withoutna[target]\n",
    "#X = StandardScaler().fit_transform(X)\n",
    "X_train, X_test, y_train, y_test = \\\n",
    "    train_test_split(X, y, test_size=.4, random_state=42)"
   ]
  },
  {
   "cell_type": "code",
   "execution_count": 117,
   "metadata": {},
   "outputs": [
    {
     "name": "stdout",
     "output_type": "stream",
     "text": [
      "Nearest Neighbors\n",
      "Accuracy:\t\t 0.9474774436090225\n",
      "Completeness:\t\t 0.9459729864932466\n",
      "Contamination:\t\t 0.05402701350675343\n",
      "\n",
      "\n",
      "\n",
      "Linear SVM\n",
      "Accuracy:\t\t 0.8144160401002505\n",
      "Completeness:\t\t 0.8429214607303652\n",
      "Contamination:\t\t 0.15707853926963478\n",
      "\n",
      "\n",
      "\n",
      "RBF SVM\n",
      "Accuracy:\t\t 0.9899924812030075\n",
      "Completeness:\t\t 0.9884942471235618\n",
      "Contamination:\t\t 0.01150575287643818\n",
      "\n",
      "\n",
      "\n",
      "Gaussian Process\n",
      "Accuracy:\t\t 0.9899924812030075\n",
      "Completeness:\t\t 0.9824912456228114\n",
      "Contamination:\t\t 0.017508754377188573\n",
      "\n",
      "\n",
      "\n",
      "Decision Tree\n",
      "Accuracy:\t\t 0.9864937343358398\n",
      "Completeness:\t\t 0.9889944972486243\n",
      "Contamination:\t\t 0.011005502751375684\n",
      "\n",
      "\n",
      "\n",
      "Random Forest\n",
      "Accuracy:\t\t 0.9859899749373433\n",
      "Completeness:\t\t 0.991495747873937\n",
      "Contamination:\t\t 0.008504252126062983\n",
      "\n",
      "\n",
      "\n",
      "Neural Net\n",
      "Accuracy:\t\t 0.9884924812030075\n",
      "Completeness:\t\t 0.9894947473736868\n",
      "Contamination:\t\t 0.010505252626313188\n",
      "\n",
      "\n",
      "\n",
      "AdaBoost\n",
      "Accuracy:\t\t 0.9889924812030075\n",
      "Completeness:\t\t 0.9889944972486243\n",
      "Contamination:\t\t 0.011005502751375684\n",
      "\n",
      "\n",
      "\n"
     ]
    }
   ],
   "source": [
    "# iterate over classifiers\n",
    "for name, clf in zip(names, classifiers):\n",
    "    clf.fit(X_train, y_train)\n",
    "    y_pred = clf.predict(X_test)\n",
    "    cv_scores_rf = cross_val_score(clf, X_test, y_test, cv=5)\n",
    "    print(name)\n",
    "    print(\"Accuracy:\\t\\t\", np.mean(cv_scores_rf))\n",
    "    print(\"Completeness:\\t\\t\", sklearn.metrics.recall_score(y_test, y_pred, average='micro'))\n",
    "    print(\"Contamination:\\t\\t\", 1 - sklearn.metrics.precision_score(y_test, y_pred, average='micro'))\n",
    "    print('\\n\\n')"
   ]
  },
  {
   "cell_type": "code",
   "execution_count": null,
   "metadata": {},
   "outputs": [],
   "source": []
  }
 ],
 "metadata": {
  "kernelspec": {
   "display_name": "Python 3",
   "language": "python",
   "name": "python3"
  },
  "language_info": {
   "codemirror_mode": {
    "name": "ipython",
    "version": 3
   },
   "file_extension": ".py",
   "mimetype": "text/x-python",
   "name": "python",
   "nbconvert_exporter": "python",
   "pygments_lexer": "ipython3",
   "version": "3.7.0"
  }
 },
 "nbformat": 4,
 "nbformat_minor": 2
}

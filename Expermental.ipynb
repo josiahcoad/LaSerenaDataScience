{
 "cells": [
  {
   "cell_type": "code",
   "execution_count": 169,
   "metadata": {},
   "outputs": [],
   "source": [
    "import pandas as pd\n",
    "import seaborn as sns\n",
    "import numpy as np\n",
    "import matplotlib.pyplot as plt\n",
    "import seaborn as sns\n",
    "from sklearn.tree import DecisionTreeClassifier\n",
    "from sklearn.ensemble import RandomForestClassifier\n",
    "from sklearn.tree import export_graphviz\n",
    "from sklearn.metrics import recall_score\n",
    "from sklearn.metrics import precision_score\n",
    "from sklearn.externals.six import StringIO \n",
    "from sklearn.metrics import f1_score\n",
    "from sklearn.model_selection import cross_val_score\n",
    "from sklearn.model_selection import cross_validate\n",
    "from sklearn import metrics\n",
    "from sklearn.metrics import make_scorer\n",
    "import sklearn\n",
    "\n",
    "# XGBoost\n",
    "import xgboost as xgb\n",
    "\n",
    "# Pandas\n",
    "import pandas as pd\n",
    "\n",
    "# Numpy\n",
    "import numpy as np\n",
    "# Set random seed\n",
    "np.random.seed(0)\n",
    "\n",
    "# Plots\n",
    "%matplotlib inline\n",
    "import matplotlib as mpl\n",
    "import matplotlib.pyplot as plt\n",
    "from IPython.display import Image\n",
    "import pydotplus"
   ]
  },
  {
   "cell_type": "code",
   "execution_count": 174,
   "metadata": {},
   "outputs": [],
   "source": [
    "df = pd.read_csv('KeplerData.csv')\n",
    "target = 'Exoplanet Archive Disposition'\n",
    "# can't include these columns becuase they are all null\n",
    "invalids = ['Equilibrium Temperature Upper Uncertainty [K]', 'Equilibrium Temperature Lower Uncertainty [K]']\n",
    "# these are all the features\n",
    "features = list(set(df.columns[4:]) - set(invalids))\n",
    "data = df[subset_features + [target]]\n",
    "withoutna = data.dropna()"
   ]
  },
  {
   "cell_type": "code",
   "execution_count": 175,
   "metadata": {},
   "outputs": [],
   "source": [
    "train, test = sklearn.model_selection.train_test_split(withoutna)\n",
    "y_train = train[target]\n",
    "X_train = train[features]\n",
    "y_test = test[target]\n",
    "X_test = test[features]"
   ]
  },
  {
   "cell_type": "code",
   "execution_count": 176,
   "metadata": {},
   "outputs": [],
   "source": [
    "clf = RandomForestClassifier()\n",
    "clf.fit(X_train, y_train)\n",
    "y_pred = clf.predict(X_test)"
   ]
  },
  {
   "cell_type": "code",
   "execution_count": 129,
   "metadata": {},
   "outputs": [
    {
     "name": "stdout",
     "output_type": "stream",
     "text": [
      "Mean Score:\t\t 0.8596429689946758\n",
      "Completeness:\t\t 0.8661060802069858\n",
      "Contamination:\t\t 0.13389391979301424\n"
     ]
    }
   ],
   "source": [
    "cv_scores_rf = cross_val_score(clf, X_test, y_test, cv=5)\n",
    "\n",
    "print(\"Mean Score:\\t\\t\", np.mean(cv_scores_rf))\n",
    "print(\"Completeness:\\t\\t\", sklearn.metrics.recall_score(y_test, y_pred, average='micro'))\n",
    "print(\"Contamination:\\t\\t\", 1 - sklearn.metrics.precision_score(y_test, y_pred, average='micro'))\n",
    "#sklearn.metrics.f1_score"
   ]
  },
  {
   "cell_type": "code",
   "execution_count": 165,
   "metadata": {},
   "outputs": [
    {
     "data": {
      "text/plain": [
       "[('Transit Duration Upper Uncertainty [hrs]', 0.422415000356962),\n",
       " ('Stellar Metallicity Upper Uncertainty [dex]', 0.10740640120870715),\n",
       " ('Transit Signal-to-Noise', 0.088672855690688),\n",
       " ('Stellar Radius Lower Uncetainty [Solar radii]', 0.07958900021055211),\n",
       " ('Stellar Eclipse False Positive Flag', 0.07809236635341973),\n",
       " ('Transit Depth Lower Uncertainty [ppm]', 0.06571746176184738),\n",
       " ('Maximum Multiple Event Statistic', 0.04908187588018646),\n",
       " ('Dec [decimal degrees]', 0.045898933145458884),\n",
       " ('PRF Delta Delta SQ (KIC) [arcsec]', 0.04485171295277924),\n",
       " ('Centroid Offset False Positive Flag', 0.018274392439399045)]"
      ]
     },
     "execution_count": 165,
     "metadata": {},
     "output_type": "execute_result"
    },
    {
     "data": {
      "image/png": "[encoded data removed]",
      "text/plain": [
       "<Figure size 432x288 with 1 Axes>"
      ]
     },
     "metadata": {},
     "output_type": "display_data"
    }
   ],
   "source": [
    "values = list(zip(subset_features, clf.feature_importances_))\n",
    "plt.barh(range(len(clf.feature_importances_)), [x[1] for x in values])\n",
    "sortd = sorted(values, reverse = True, key= lambda x: x[1])[:10]\n",
    "most_important = [s[0] for s in sortd]\n",
    "sortd"
   ]
  },
  {
   "cell_type": "code",
   "execution_count": null,
   "metadata": {},
   "outputs": [],
   "source": [
    "# here we look at the most important feature\n",
    "fig, axs = plt.subplots(ncols=1)\n",
    "data = df[['Transit Duration Upper Uncertainty [hrs]', target]]\n",
    "data[data < .5].groupby(target).plot(kind='kde', ax=axs)\n",
    "data[data < .5].groupby(target).describe()"
   ]
  }
 ],
 "metadata": {
  "kernelspec": {
   "display_name": "Python 3",
   "language": "python",
   "name": "python3"
  },
  "language_info": {
   "codemirror_mode": {
    "name": "ipython",
    "version": 3
   },
   "file_extension": ".py",
   "mimetype": "text/x-python",
   "name": "python",
   "nbconvert_exporter": "python",
   "pygments_lexer": "ipython3",
   "version": "3.7.0"
  }
 },
 "nbformat": 4,
 "nbformat_minor": 2
}

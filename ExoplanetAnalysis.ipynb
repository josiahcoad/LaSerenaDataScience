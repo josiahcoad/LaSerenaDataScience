{
 "cells": [
  {
   "cell_type": "markdown",
   "metadata": {},
   "source": [
    "# Classifying the Kepler Dataset for Exoplanets"
   ]
  },
  {
   "cell_type": "markdown",
   "metadata": {},
   "source": [
    "*This notebook is a resulting project from a datascience school for astronomy in Chile, 2018.*"
   ]
  },
  {
   "cell_type": "markdown",
   "metadata": {},
   "source": [
    "![sunset](./assets/Sunset.png)"
   ]
  },
  {
   "cell_type": "markdown",
   "metadata": {
    "slideshow": {
     "slide_type": "slide"
    }
   },
   "source": [
    "## Intro:\n",
    "NASA’s Kepler Space Telescope was designed to determine the frequency of Earth-sized planets orbiting Sun-like stars, but these planets are on the very edge of the mission’s detection sensitivity.\n",
    "\n",
    "The data set is opened sourced and can be found [here](https://exoplanetarchive.ipac.caltech.edu/cgi-bin/TblView/nph-tblView?app=ExoTbls&config=cumulative)."
   ]
  },
  {
   "cell_type": "markdown",
   "metadata": {},
   "source": [
    "## Goal/Product:\n",
    "1. **Classify unclassified planets from the kepler database with defendable metrics**\n",
    "2. **Give future astro-surveys suggestions on the most important features to collect to detect planets**"
   ]
  },
  {
   "cell_type": "markdown",
   "metadata": {},
   "source": [
    "## Past Work\n",
    "![Research Paper Header](./assets/PaperHeader.png)\n",
    "> *\"We reached an 88.3% of average precision and recall (f1 score), meaning\n",
    "that approximately the 88% of the times the prediction\n",
    "was correct.\"*"
   ]
  },
  {
   "cell_type": "markdown",
   "metadata": {},
   "source": [
    "## Workflow Pipeline\n",
    "#### Data Preprocessing\n",
    "1. Import the data and get a summary\n",
    "2. Start with ~150 features, ~10,000 samples and class: FALSE_POSITIVE, CANDIDATE or POSITIVE. Note: FALSE_POSITIVE means that the object was a canidate and was found to not be a planet. So this label is essentially the same as NEGATIVE and will be called that to remove confusion.\n",
    "3. Our domain experts hand select possibly relevant features, reducing our features to  about ~100.\n",
    "4. Start by imputing the missing data with medians. *\\[future work would be to choose a better imputation\\]*\n",
    "#### Feature Extraction\n",
    "5. Throw all features in a random forest tree with default parameters, test with cross validation, get decent metric scores and rank features by importance.\n",
    "6. Get the VIF scores for the features and remove features one-by-one that have a very high VIF/correlation score (like hand-done PCA)\n",
    "7. Rerun random forest with only one feature, the most important and test with cross validation. Do this over and over for the top 40 features. Plot the metrics and look for an elbow where we stop getting better results by including more features. For us, that was around 20 features.\n",
    "8. Look closely at these top 20 features, make sure that the unlabeled data follows a similar distribution to our labeled data (ideally bimodal) \\[Note: at this point, we found our \"greatest\" feature, \"Disposition Score\" only existed as a good indicator for our labeled data. Go back to 6 without this feature.\\]\n",
    "#### Model Selection\n",
    "9. Compare the performance on several classifiers with default parameters on our 20 features. Find that adaboost does the best, but random forest also does very well.\n",
    "#### Model Tuning\n",
    "10. [Maybe] Perform GridSearch to find the best hyper parameters for our classifier with the completeness as our optimization metric.\n",
    "11. Tune the probability prediction of our model.\n",
    "12. Run t-SNE to make sure that our unlabeled data is evenly distributed in the same space as our labeled data (not its own cluster).\n",
    "13. Perform Gaussian clustering on the tSNE plot to get the labeled data most similar to the unlabeled data.\n",
    "#### Final Model Performance\n",
    "13. Plot probability distributions against \"disposition score\"\n",
    "14. Run classifier on hand picked testing set (labeled data most like our candidate data)"
   ]
  },
  {
   "cell_type": "markdown",
   "metadata": {},
   "source": [
    "# Code"
   ]
  },
  {
   "cell_type": "code",
   "execution_count": 1,
   "metadata": {},
   "outputs": [
    {
     "data": {
      "text/html": [
       "<script>\n",
       "code_show=true; \n",
       "function code_toggle() {\n",
       " if (code_show){\n",
       " $('div.input').hide();\n",
       " } else {\n",
       " $('div.input').show();\n",
       " }\n",
       " code_show = !code_show\n",
       "} \n",
       "$( document ).ready(code_toggle);\n",
       "</script>\n",
       "<form action=\"javascript:code_toggle()\"><input type=\"submit\" value=\"Click here to toggle on/off the raw code.\"></form>"
      ],
      "text/plain": [
       "<IPython.core.display.HTML object>"
      ]
     },
     "execution_count": 1,
     "metadata": {},
     "output_type": "execute_result"
    }
   ],
   "source": [
    "from IPython.display import HTML\n",
    "\n",
    "HTML('''<script>\n",
    "code_show=true; \n",
    "function code_toggle() {\n",
    " if (code_show){\n",
    " $('div.input').hide();\n",
    " } else {\n",
    " $('div.input').show();\n",
    " }\n",
    " code_show = !code_show\n",
    "} \n",
    "$( document ).ready(code_toggle);\n",
    "</script>\n",
    "<form action=\"javascript:code_toggle()\"><input type=\"submit\" value=\"Click here to toggle on/off the raw code.\"></form>''')"
   ]
  },
  {
   "cell_type": "code",
   "execution_count": 2,
   "metadata": {},
   "outputs": [
    {
     "name": "stderr",
     "output_type": "stream",
     "text": [
      "/usr/local/lib/python3.7/site-packages/sklearn/ensemble/weight_boosting.py:29: DeprecationWarning: numpy.core.umath_tests is an internal NumPy module and should not be imported. It will be removed in a future NumPy release.\n",
      "  from numpy.core.umath_tests import inner1d\n"
     ]
    }
   ],
   "source": [
    "import warnings\n",
    "warnings.filterwarnings(\"ignore\")\n",
    "\n",
    "import pandas as pd\n",
    "import seaborn as sns\n",
    "import numpy as np\n",
    "import collections\n",
    "import matplotlib.pyplot as plt\n",
    "from scipy import stats\n",
    "\n",
    "import sklearn\n",
    "from sklearn import metrics\n",
    "from sklearn import decomposition\n",
    "from sklearn.tree import DecisionTreeClassifier\n",
    "from sklearn.ensemble import RandomForestClassifier, AdaBoostClassifier\n",
    "from sklearn.tree import export_graphviz\n",
    "from sklearn.externals.six import StringIO\n",
    "from sklearn.preprocessing import StandardScaler\n",
    "from sklearn.neural_network import MLPClassifier\n",
    "from sklearn.neighbors import KNeighborsClassifier\n",
    "from sklearn.gaussian_process import GaussianProcessClassifier\n",
    "from sklearn.naive_bayes import GaussianNB\n",
    "from sklearn.discriminant_analysis import QuadraticDiscriminantAnalysis\n",
    "from sklearn.model_selection import train_test_split, GridSearchCV, StratifiedKFold, cross_validate\n",
    "from sklearn.calibration import CalibratedClassifierCV\n",
    "from sklearn.metrics import roc_curve, precision_recall_curve, auc, make_scorer, recall_score, accuracy_score, precision_score, confusion_matrix\n",
    "from statsmodels.stats.outliers_influence import variance_inflation_factor"
   ]
  },
  {
   "cell_type": "markdown",
   "metadata": {},
   "source": [
    "### Data Preprocessing\n",
    "##### Import the data and get a summary"
   ]
  },
  {
   "cell_type": "code",
   "execution_count": 3,
   "metadata": {},
   "outputs": [
    {
     "name": "stdout",
     "output_type": "stream",
     "text": [
      "Size of our Data\n",
      "Samples: 9564, Features: 98\n"
     ]
    }
   ],
   "source": [
    "raw = pd.read_csv('KeplerData.csv')\n",
    "target_name = 'Exoplanet Archive Disposition'\n",
    "feature_names = raw.columns[4:]\n",
    "raw = raw[[target_name, *feature_names]]\n",
    "print(\"Size of our Data\")\n",
    "print(\"Samples: {}, Features: {}\".format(raw.shape[0], raw.shape[1]-1))"
   ]
  },
  {
   "cell_type": "markdown",
   "metadata": {},
   "source": [
    "##### Impute the missing data with medians."
   ]
  },
  {
   "cell_type": "code",
   "execution_count": 4,
   "metadata": {},
   "outputs": [],
   "source": [
    "# IMPUTE\n",
    "# Fill Disposition Score with 0.5\n",
    "raw_withoutna = raw.copy()\n",
    "raw_withoutna['Disposition Score'].fillna(0, inplace=True)\n",
    "# Fill flags with 0\n",
    "flag_names = ['Not Transit-Like False Positive Flag', 'Stellar Eclipse False Positive Flag', 'Centroid Offset False Positive Flag', 'Ephermeris Match Indicates Contamination False Positive Flag']\n",
    "raw_withoutna[flag_names].fillna(0, inplace=True)\n",
    "# Fill all other nulls with median\n",
    "raw_withoutna.fillna(raw_withoutna.median(), inplace=True)\n",
    "# remove canidates for prediction (2244 rows)\n",
    "data = raw_withoutna[raw_withoutna[target_name] != 'CANDIDATE']\n",
    "# remove column 'Disposition Score' becuase it is not really a feature\n",
    "data = data.drop(['Disposition Score'], axis=1)\n",
    "feature_names = list(set(feature_names) - set(['Disposition Score']))"
   ]
  },
  {
   "cell_type": "markdown",
   "metadata": {},
   "source": [
    "##### Take a quick look at our data"
   ]
  },
  {
   "cell_type": "code",
   "execution_count": 5,
   "metadata": {},
   "outputs": [
    {
     "data": {
      "image/png": "[encoded data removed]",
      "text/plain": [
       "<Figure size 432x288 with 1 Axes>"
      ]
     },
     "metadata": {},
     "output_type": "display_data"
    }
   ],
   "source": [
    "c = collections.Counter(raw[target_name])\n",
    "g = sns.barplot(['Exoplanet', 'Not Exoplanet', 'Unlabeled'], list(c.values()))"
   ]
  },
  {
   "cell_type": "markdown",
   "metadata": {},
   "source": [
    "### Feature Extraction"
   ]
  },
  {
   "cell_type": "markdown",
   "metadata": {},
   "source": [
    "##### Fit a preliminary classifier to our data. Does it seem to understand our data?"
   ]
  },
  {
   "cell_type": "code",
   "execution_count": 6,
   "metadata": {},
   "outputs": [
    {
     "name": "stdout",
     "output_type": "stream",
     "text": [
      "Accuracy:\t\t 0.97363022962563\n",
      "Completeness:\t\t 0.9298882258217296\n",
      "Contamination:\t\t 0.014164493359786645\n"
     ]
    }
   ],
   "source": [
    "scoring = ['accuracy', 'precision', 'recall']\n",
    "clf = RandomForestClassifier(random_state=0)\n",
    "scores = cross_validate(clf, data[feature_names],\n",
    "                        data[target_name]=='CONFIRMED', scoring=scoring,\n",
    "                        cv=5, return_train_score=True)\n",
    "print(\"Accuracy:\\t\\t\", np.mean(scores['test_accuracy']))\n",
    "print(\"Completeness:\\t\\t\", np.mean(scores['test_recall']))\n",
    "print(\"Contamination:\\t\\t\", 1 - np.mean(scores['test_precision']))"
   ]
  },
  {
   "cell_type": "markdown",
   "metadata": {},
   "source": [
    "##### Sort features by feature importance"
   ]
  },
  {
   "cell_type": "code",
   "execution_count": 7,
   "metadata": {},
   "outputs": [
    {
     "data": {
      "text/plain": [
       "[('PRF Delta Theta SQ (KIC) [arcsec]', 0.08472692388516276),\n",
       " ('Not Transit-Like False Positive Flag', 0.07938343531796094),\n",
       " ('Planetary Radius [Earth radii].1', 0.06210535255768148),\n",
       " ('Stellar Eclipse False Positive Flag', 0.05909828367960166),\n",
       " ('Stellar Metallicity Upper Uncertainty [dex]', 0.05572051792300262),\n",
       " ('Stellar Metallicity Lower Uncertainty [dex]', 0.05487290647688137),\n",
       " ('Stellar Effective Temperature Upper Uncertainty [K]', 0.03813731101504158),\n",
       " ('PRF Delta Theta SQ (OOT) [arcsec]', 0.037844140165104644),\n",
       " ('Centroid Offset False Positive Flag', 0.035415793389987134),\n",
       " ('Number of Planets', 0.03485576314653982)]"
      ]
     },
     "execution_count": 7,
     "metadata": {},
     "output_type": "execute_result"
    }
   ],
   "source": [
    "clf.fit(data[feature_names], data[target_name])\n",
    "values = list(zip(data[feature_names], clf.feature_importances_))\n",
    "sortd = sorted(values, reverse = True, key= lambda x: x[1])\n",
    "important_names = [s[0] for s in sortd]\n",
    "sortd[:10]"
   ]
  },
  {
   "cell_type": "code",
   "execution_count": 8,
   "metadata": {},
   "outputs": [],
   "source": [
    "# g = data[[*top_names, target_name]].groupby(target_name).hist()"
   ]
  },
  {
   "cell_type": "markdown",
   "metadata": {},
   "source": [
    "##### Remove important features that have high correlation"
   ]
  },
  {
   "cell_type": "code",
   "execution_count": 9,
   "metadata": {},
   "outputs": [
    {
     "name": "stdout",
     "output_type": "stream",
     "text": [
      "Maximum VIF after removal: 14.0\n"
     ]
    }
   ],
   "source": [
    "# X = data[important_names]\n",
    "# vif = pd.DataFrame()\n",
    "# vif[\"VIF Factor\"] = [variance_inflation_factor(X.values, i) for i in range(X.shape[1])]\n",
    "# print(\"Maximum VIF before removal:\", round(vif['VIF Factor'].max()))\n",
    "\n",
    "highVIFS = [\n",
    "    'Planetary Radius Lower Unc. [Earth radii]', \n",
    "    'Planetary Radius [Earth radii]',\n",
    "    'Stellar Effective Temperature Upper Uncertainty [K]',\n",
    "    'Transit Duration Upper Uncertainty [hrs]',\n",
    "    'Stellar Metallicity Upper Uncertainty [dex]',\n",
    "]\n",
    "important_names = list(set(important_names[:20]) - set(highVIFS))\n",
    "X = data[important_names]\n",
    "vif = pd.DataFrame()\n",
    "vif[\"VIF Factor\"] = [variance_inflation_factor(X.values, i) for i in range(X.shape[1])]\n",
    "vif[\"features\"] = X.columns\n",
    "\n",
    "print(\"Maximum VIF after removal:\", round(vif['VIF Factor'].max()))"
   ]
  },
  {
   "cell_type": "markdown",
   "metadata": {},
   "source": [
    "##### Iteratively run random forest using only the top n most important features"
   ]
  },
  {
   "cell_type": "code",
   "execution_count": 10,
   "metadata": {
    "scrolled": true
   },
   "outputs": [
    {
     "data": {
      "text/plain": [
       "<matplotlib.lines.Line2D at 0x1124542b0>"
      ]
     },
     "execution_count": 10,
     "metadata": {},
     "output_type": "execute_result"
    },
    {
     "data": {
      "image/png": "[encoded data removed]",
      "text/plain": [
       "<Figure size 1440x360 with 3 Axes>"
      ]
     },
     "metadata": {},
     "output_type": "display_data"
    }
   ],
   "source": [
    "test = []\n",
    "for i in range(1, 41):\n",
    "    imp = important_names[:i]\n",
    "    clf = RandomForestClassifier(random_state=0)\n",
    "    clf.fit(data[imp], data[target_name])\n",
    "    scoring = ['accuracy', 'precision', 'recall']\n",
    "    scores = cross_validate(clf, data[imp],\n",
    "                            data[target_name]=='CONFIRMED', scoring=scoring,\n",
    "                            cv=5, return_train_score=True)\n",
    "    test.append((i, np.mean(scores['test_accuracy']), np.mean(scores['test_recall']), 1 - np.mean(scores['test_precision'])))\n",
    "\n",
    "df_test = pd.DataFrame(test, columns=['#params', 'accuracy', 'complete', 'contamin'])\n",
    "fig, axs = plt.subplots(ncols=3, figsize=(20,5))\n",
    "sns.lineplot(x=\"#params\", y=\"accuracy\", data=df_test, ax=axs[0])\n",
    "sns.lineplot(x=\"#params\", y=\"complete\", data=df_test, ax=axs[1])\n",
    "sns.lineplot(x=\"#params\", y=\"contamin\", data=df_test, ax=axs[2])\n",
    "plt.axvline(x=20, color='red')"
   ]
  },
  {
   "cell_type": "code",
   "execution_count": 11,
   "metadata": {},
   "outputs": [],
   "source": [
    "# we see that we get great results after just 20 features\n",
    "top_names = important_names[:20]"
   ]
  },
  {
   "cell_type": "markdown",
   "metadata": {},
   "source": [
    "### Model Selection"
   ]
  },
  {
   "cell_type": "markdown",
   "metadata": {},
   "source": [
    "##### Compare the performance of several classifiers"
   ]
  },
  {
   "cell_type": "code",
   "execution_count": 12,
   "metadata": {},
   "outputs": [
    {
     "data": {
      "image/png": "[encoded data removed]",
      "text/plain": [
       "<Figure size 720x432 with 1 Axes>"
      ]
     },
     "metadata": {},
     "output_type": "display_data"
    }
   ],
   "source": [
    "names = [\"Nearest Neighbors\",\n",
    "         \"Decision Tree\", \"Random Forest\", \"Neural Net\", \"AdaBoost\",\n",
    "         \"Naive Bayes\", \"QDA\"]\n",
    "\n",
    "classifiers = [\n",
    "    KNeighborsClassifier(n_neighbors=10),\n",
    "    DecisionTreeClassifier(random_state=0),\n",
    "    RandomForestClassifier(random_state=0),\n",
    "    MLPClassifier(random_state=0),\n",
    "    AdaBoostClassifier(n_estimators=100, random_state=0),\n",
    "    GaussianNB(),\n",
    "    QuadraticDiscriminantAnalysis()]\n",
    "\n",
    "scoring = ['accuracy', 'precision', 'recall']\n",
    "scores_list = []\n",
    "# iterate over classifiers\n",
    "for name, clf in zip(names, classifiers):\n",
    "    scores = cross_validate(clf, data[top_names],\n",
    "                            data[target_name]=='CONFIRMED', scoring=scoring,\n",
    "                            cv=5, return_train_score=True)\n",
    "    scores_list.append([name, np.mean(scores['test_accuracy']), np.mean(scores['test_recall']), 1 - np.mean(scores['test_precision'])])\n",
    "\n",
    "scores_df = pd.DataFrame(scores_list, columns=['name', 'accuracy', 'completeness', 'contamination'])\n",
    "fig, ax1 = plt.subplots(figsize=(10, 6))\n",
    "tidy = (\n",
    "    scores_df.set_index('name')\n",
    "      .stack()  # un-pivots the data \n",
    "      .reset_index()  # moves all data out of the index\n",
    "      .rename(columns={'level_1': 'Variable', 0: 'Value'})\n",
    ")\n",
    "g = sns.barplot(x='name', y='Value', hue='Variable', data=tidy, ax=ax1)\n",
    "for index, row in tidy.iterrows():\n",
    "    g.text((row.name-1)/3.04,row.Value + .01, round(row.Value,2), color='black', ha=\"center\")\n",
    "sns.despine(fig)"
   ]
  },
  {
   "cell_type": "markdown",
   "metadata": {},
   "source": [
    "### Model Tuning"
   ]
  },
  {
   "cell_type": "markdown",
   "metadata": {},
   "source": [
    "##### Run Grid Search on Random Forest, trying to optimize for completeness"
   ]
  },
  {
   "cell_type": "code",
   "execution_count": 13,
   "metadata": {},
   "outputs": [
    {
     "name": "stdout",
     "output_type": "stream",
     "text": [
      "Best params for completeness: {'max_depth': 5, 'max_features': 5, 'n_estimators': 300}\n",
      "Completion: 0.94\n"
     ]
    }
   ],
   "source": [
    "clf = RandomForestClassifier(n_jobs=-1, random_state=0)\n",
    "\n",
    "# This takes a while to run with more values,\n",
    "# I found these as the best parameteres.\n",
    "param_grid = {\n",
    "    'n_estimators' : [300],\n",
    "    'max_depth': [5],\n",
    "    'max_features': [5]\n",
    "}\n",
    "\n",
    "scorers = {\n",
    "    'precision_score': make_scorer(precision_score),\n",
    "    'recall_score': make_scorer(recall_score),\n",
    "    'accuracy_score': make_scorer(accuracy_score)\n",
    "}\n",
    "\n",
    "X_train, X_test, y_train, y_test = \\\n",
    "    train_test_split(data[top_names], data[target_name] == 'CONFIRMED', random_state=0)\n",
    "\n",
    "skf = StratifiedKFold(n_splits=4)\n",
    "grid_search = GridSearchCV(clf, param_grid, scoring=scorers, refit='recall_score',\n",
    "                       cv=skf, return_train_score=True, n_jobs=-1)\n",
    "grid_search.fit(X_train, y_train)\n",
    "\n",
    "# make the predictions\n",
    "y_pred = grid_search.predict(X_test)\n",
    "\n",
    "print('Best params for completeness:', grid_search.best_params_)\n",
    "results = pd.DataFrame(grid_search.cv_results_)\n",
    "bestResults = results[results.params == grid_search.best_params_]\n",
    "completeness = float(bestResults['mean_test_recall_score'])\n",
    "print('Completion: {:.2f}'.format(completeness))\n",
    "# confusion matrix on the test data.\n",
    "confusion = pd.DataFrame(confusion_matrix(y_test, y_pred),\n",
    "             columns=['pred_neg', 'pred_pos'], index=['neg', 'pos'])"
   ]
  },
  {
   "cell_type": "markdown",
   "metadata": {},
   "source": [
    "##### Calibrate the probability prediction of our model."
   ]
  },
  {
   "cell_type": "code",
   "execution_count": 14,
   "metadata": {},
   "outputs": [
    {
     "data": {
      "text/plain": [
       "<matplotlib.axes._subplots.AxesSubplot at 0x113c77128>"
      ]
     },
     "execution_count": 14,
     "metadata": {},
     "output_type": "execute_result"
    },
    {
     "data": {
      "image/png": "[encoded data removed]",
      "text/plain": [
       "<Figure size 720x360 with 2 Axes>"
      ]
     },
     "metadata": {},
     "output_type": "display_data"
    }
   ],
   "source": [
    "clf = RandomForestClassifier(random_state=0)\n",
    "X_labeled, y = data[top_names], data[target_name]\n",
    "clf.fit(X_labeled, y)\n",
    "X_candidates = raw_withoutna[top_names][raw[target_name] == 'CANDIDATE']\n",
    "calibrated = CalibratedClassifierCV(clf, method='isotonic')\n",
    "calibrated.fit(X_labeled, y)\n",
    "\n",
    "probs_labeled = [x[0] for x in clf.predict_proba(X_labeled)]\n",
    "probs_calib_labeled = [x[0] for x in calibrated.predict_proba(X_labeled)]\n",
    "probs_unlabeled = [x[0] for x in clf.predict_proba(X_candidates)]\n",
    "probs_calib_unlabeled = [x[0] for x in calibrated.predict_proba(X_candidates)]\n",
    "\n",
    "fig, axs = plt.subplots(ncols=2, figsize=(10,5))\n",
    "sns.distplot(probs_labeled, ax=axs[0], kde_kws={\"label\": \"Uncalibrated Probs of Labeled Data\"})\n",
    "sns.distplot(probs_calib_labeled, ax=axs[0], kde_kws={\"label\": \"Calibrated Probs of Labeled Data\"})\n",
    "sns.distplot(probs_unlabeled, ax=axs[1], kde_kws={\"label\": \"Uncalibrated Probs of Unlabeled Data\"})\n",
    "sns.distplot(probs_calib_unlabeled, ax=axs[1], kde_kws={\"label\": \"Calibrated Probs of Unlabeled Data\"})"
   ]
  },
  {
   "cell_type": "markdown",
   "metadata": {},
   "source": [
    "### Access final model performance"
   ]
  },
  {
   "cell_type": "markdown",
   "metadata": {},
   "source": [
    "##### Plot probability distributions against \"Disposition Score\""
   ]
  },
  {
   "cell_type": "code",
   "execution_count": 15,
   "metadata": {},
   "outputs": [
    {
     "data": {
      "text/plain": [
       "<matplotlib.axes._subplots.AxesSubplot at 0x114299e80>"
      ]
     },
     "execution_count": 15,
     "metadata": {},
     "output_type": "execute_result"
    },
    {
     "data": {
      "image/png": "[encoded data removed]",
      "text/plain": [
       "<Figure size 720x360 with 2 Axes>"
      ]
     },
     "metadata": {},
     "output_type": "display_data"
    }
   ],
   "source": [
    "clf = RandomForestClassifier(random_state=0)\n",
    "X_labeled, y = data[top_names], data[target_name]\n",
    "clf.fit(X_labeled, y)\n",
    "X_candidates = raw_withoutna[top_names][raw[target_name] == 'CANDIDATE']\n",
    "calibrated = CalibratedClassifierCV(clf, method='isotonic')\n",
    "calibrated.fit(X_labeled, y)\n",
    "\n",
    "probs_labeled = [x[0] for x in clf.predict_proba(X_labeled)]\n",
    "probs_calib_labeled = [x[0] for x in calibrated.predict_proba(X_labeled)]\n",
    "probs_unlabeled = [x[0] for x in clf.predict_proba(X_candidates)]\n",
    "probs_calib_unlabeled = [x[0] for x in calibrated.predict_proba(X_candidates)]\n",
    "\n",
    "fig, axs = plt.subplots(ncols=2, figsize=(10,5))\n",
    "sns.distplot(probs_calib_labeled, ax=axs[0], kde_kws={\"label\": \"Calibrated Probs of Labeled Data\"}, color='orange')\n",
    "sns.distplot(raw['Disposition Score'][raw[target_name] != 'CANDIDATE'].dropna(), ax=axs[0], kde_kws={\"label\": \"Disposition Score for Labeled Data\"}, color='green')\n",
    "sns.distplot(probs_calib_unlabeled, ax=axs[1], kde_kws={\"label\": \"Calibrated Probs of Unlabeled Data\"}, color='orange')\n",
    "sns.distplot(raw['Disposition Score'][raw[target_name] == 'CANDIDATE'].dropna(), ax=axs[1], kde_kws={\"label\": \"Disposition Score for Unlabeled Data\"}, color='green')"
   ]
  },
  {
   "cell_type": "markdown",
   "metadata": {},
   "source": [
    "##### Make predictions on our candidates"
   ]
  },
  {
   "cell_type": "code",
   "execution_count": 16,
   "metadata": {},
   "outputs": [
    {
     "data": {
      "image/png": "[encoded data removed]",
      "text/plain": [
       "<Figure size 432x288 with 1 Axes>"
      ]
     },
     "metadata": {},
     "output_type": "display_data"
    }
   ],
   "source": [
    "c = collections.Counter(list(calibrated.predict(X_candidates[top_names])))\n",
    "g = sns.barplot(['Exoplanet', 'Not Exoplanet'], list(c.values()))"
   ]
  },
  {
   "cell_type": "markdown",
   "metadata": {},
   "source": [
    "##### Run classifier on hand picked testing set (most like our candidate data)\n",
    "(Run t-SNE to make sure that our unlabeled data is evenly distributed in the same space as our labeled data (not its own cluster))"
   ]
  },
  {
   "cell_type": "code",
   "execution_count": 17,
   "metadata": {},
   "outputs": [],
   "source": [
    "df_candidate_mask = pd.read_csv('candidateLikeData.csv')\n",
    "mask = list(df_candidate_mask['Candidate Classifier Flag'] == 1)\n",
    "df_candidate = data[mask]"
   ]
  },
  {
   "cell_type": "code",
   "execution_count": 18,
   "metadata": {},
   "outputs": [
    {
     "name": "stdout",
     "output_type": "stream",
     "text": [
      "Training samples: 3405\n",
      "Testing samples: 2188\n"
     ]
    }
   ],
   "source": [
    "data['Candidate-like Data Flag'] = df_candidate_mask['Candidate Classifier Flag']\n",
    "(_, train), (_, test) = data.groupby(['Candidate-like Data Flag'])\n",
    "print('Training samples:', len(train))\n",
    "print('Testing samples:', len(test))"
   ]
  },
  {
   "cell_type": "code",
   "execution_count": 19,
   "metadata": {},
   "outputs": [
    {
     "name": "stdout",
     "output_type": "stream",
     "text": [
      "Results for the candidate-like testing data:\n",
      "Accuracy:\t\t0.983547\n",
      "Completeness:\t\t0.980088\n",
      "Contamination:\t\t0.019912\n"
     ]
    }
   ],
   "source": [
    "# test how well a random forest does on labeled data\n",
    "# that is most like our unlabeled/candidate data\n",
    "clf = AdaBoostClassifier(n_estimators=100, random_state=0)\n",
    "X, y = train[top_names], train[target_name]\n",
    "clf.fit(X, y)\n",
    "y_true = test[target_name]\n",
    "y_pred = clf.predict(test[top_names])\n",
    "accuracy = accuracy_score(y_true=='CONFIRMED', y_pred=='CONFIRMED')\n",
    "complete = recall_score(y_true=='CONFIRMED', y_pred=='CONFIRMED')\n",
    "contamin = 1 - precision_score(y_true=='CONFIRMED', y_pred=='CONFIRMED')\n",
    "print(\"Results for the candidate-like testing data:\")\n",
    "print(\"Accuracy:\\t\\t{:3f}\".format(accuracy))\n",
    "print(\"Completeness:\\t\\t{:3f}\".format(complete))\n",
    "print(\"Contamination:\\t\\t{:3f}\".format(contamin))"
   ]
  },
  {
   "cell_type": "markdown",
   "metadata": {},
   "source": [
    "# Thank you!"
   ]
  }
 ],
 "metadata": {
  "kernelspec": {
   "display_name": "Python 3",
   "language": "python",
   "name": "python3"
  },
  "language_info": {
   "codemirror_mode": {
    "name": "ipython",
    "version": 3
   },
   "file_extension": ".py",
   "mimetype": "text/x-python",
   "name": "python",
   "nbconvert_exporter": "python",
   "pygments_lexer": "ipython3",
   "version": "3.7.0"
  }
 },
 "nbformat": 4,
 "nbformat_minor": 2
}
